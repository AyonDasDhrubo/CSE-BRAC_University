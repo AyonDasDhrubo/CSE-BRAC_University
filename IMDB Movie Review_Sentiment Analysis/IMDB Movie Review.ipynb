{
  "nbformat": 4,
  "nbformat_minor": 0,
  "metadata": {
    "colab": {
      "provenance": [],
      "gpuType": "T4"
    },
    "kernelspec": {
      "name": "python3",
      "display_name": "Python 3"
    },
    "language_info": {
      "name": "python"
    },
    "accelerator": "GPU"
  },
  "cells": [
    {
      "cell_type": "markdown",
      "source": [
        "#LOAD LIBRARIES"
      ],
      "metadata": {
        "id": "C9Aq--FSI7nA"
      }
    },
    {
      "cell_type": "code",
      "source": [
        "import numpy as np\n",
        "import scipy\n",
        "import sklearn\n",
        "\n",
        "print(\"NumPy version:\", np.__version__)\n",
        "print(\"SciPy version:\", scipy.__version__)\n",
        "print(\"scikit-learn version:\", sklearn.__version__)"
      ],
      "metadata": {
        "colab": {
          "base_uri": "https://localhost:8080/"
        },
        "id": "7tMM4nKzAavr",
        "outputId": "10798d8c-422e-4a7f-86b3-414ca481d661"
      },
      "execution_count": 1,
      "outputs": [
        {
          "output_type": "stream",
          "name": "stdout",
          "text": [
            "NumPy version: 1.23.5\n",
            "SciPy version: 1.11.4\n",
            "scikit-learn version: 1.2.2\n"
          ]
        }
      ]
    },
    {
      "cell_type": "code",
      "source": [
        "from tensorflow import keras\n",
        "import tensorflow as tf"
      ],
      "metadata": {
        "id": "pRpamQThAjkP"
      },
      "execution_count": 2,
      "outputs": []
    },
    {
      "cell_type": "code",
      "source": [
        "import matplotlib.pyplot as plt\n"
      ],
      "metadata": {
        "id": "hg6Wdi5xC5UR"
      },
      "execution_count": 3,
      "outputs": []
    },
    {
      "cell_type": "markdown",
      "source": [
        "#LOAD DATASET"
      ],
      "metadata": {
        "id": "nyPrVn9lBs4h"
      }
    },
    {
      "cell_type": "code",
      "source": [
        "from google.colab import drive\n",
        "drive.mount('/content/drive')"
      ],
      "metadata": {
        "colab": {
          "base_uri": "https://localhost:8080/"
        },
        "id": "qOZZezh5BfHO",
        "outputId": "9d27454e-f195-4c59-f879-371e1d3042dc"
      },
      "execution_count": 4,
      "outputs": [
        {
          "output_type": "stream",
          "name": "stdout",
          "text": [
            "Drive already mounted at /content/drive; to attempt to forcibly remount, call drive.mount(\"/content/drive\", force_remount=True).\n"
          ]
        }
      ]
    },
    {
      "cell_type": "code",
      "source": [
        "import pandas as pd\n",
        "\n",
        "file_path = \"/content/drive/MyDrive/440/IMDB Dataset.csv\"\n",
        "df = pd.read_csv(file_path, names=['sentence', 'label'])\n",
        "sentences = df['sentence']\n",
        "print(df.iloc[0])\n"
      ],
      "metadata": {
        "colab": {
          "base_uri": "https://localhost:8080/"
        },
        "id": "yTvbOkwUAjsR",
        "outputId": "6440f406-22c9-4345-b86a-782118265171"
      },
      "execution_count": 5,
      "outputs": [
        {
          "output_type": "stream",
          "name": "stdout",
          "text": [
            "sentence       review\n",
            "label       sentiment\n",
            "Name: 0, dtype: object\n"
          ]
        }
      ]
    },
    {
      "cell_type": "code",
      "source": [
        "df = df.drop(0, axis=0)\n",
        "df.head()"
      ],
      "metadata": {
        "id": "eje2g0-9AjvE",
        "colab": {
          "base_uri": "https://localhost:8080/",
          "height": 206
        },
        "outputId": "4aad4f7e-1f93-4246-b5d8-fda87c415edf"
      },
      "execution_count": 6,
      "outputs": [
        {
          "output_type": "execute_result",
          "data": {
            "text/plain": [
              "                                            sentence     label\n",
              "1  One of the other reviewers has mentioned that ...  positive\n",
              "2  A wonderful little production. <br /><br />The...  positive\n",
              "3  I thought this was a wonderful way to spend ti...  positive\n",
              "4  Basically there's a family where a little boy ...  negative\n",
              "5  Petter Mattei's \"Love in the Time of Money\" is...  positive"
            ],
            "text/html": [
              "\n",
              "  <div id=\"df-c6ecf290-572c-4367-8364-76cbe442fae0\" class=\"colab-df-container\">\n",
              "    <div>\n",
              "<style scoped>\n",
              "    .dataframe tbody tr th:only-of-type {\n",
              "        vertical-align: middle;\n",
              "    }\n",
              "\n",
              "    .dataframe tbody tr th {\n",
              "        vertical-align: top;\n",
              "    }\n",
              "\n",
              "    .dataframe thead th {\n",
              "        text-align: right;\n",
              "    }\n",
              "</style>\n",
              "<table border=\"1\" class=\"dataframe\">\n",
              "  <thead>\n",
              "    <tr style=\"text-align: right;\">\n",
              "      <th></th>\n",
              "      <th>sentence</th>\n",
              "      <th>label</th>\n",
              "    </tr>\n",
              "  </thead>\n",
              "  <tbody>\n",
              "    <tr>\n",
              "      <th>1</th>\n",
              "      <td>One of the other reviewers has mentioned that ...</td>\n",
              "      <td>positive</td>\n",
              "    </tr>\n",
              "    <tr>\n",
              "      <th>2</th>\n",
              "      <td>A wonderful little production. &lt;br /&gt;&lt;br /&gt;The...</td>\n",
              "      <td>positive</td>\n",
              "    </tr>\n",
              "    <tr>\n",
              "      <th>3</th>\n",
              "      <td>I thought this was a wonderful way to spend ti...</td>\n",
              "      <td>positive</td>\n",
              "    </tr>\n",
              "    <tr>\n",
              "      <th>4</th>\n",
              "      <td>Basically there's a family where a little boy ...</td>\n",
              "      <td>negative</td>\n",
              "    </tr>\n",
              "    <tr>\n",
              "      <th>5</th>\n",
              "      <td>Petter Mattei's \"Love in the Time of Money\" is...</td>\n",
              "      <td>positive</td>\n",
              "    </tr>\n",
              "  </tbody>\n",
              "</table>\n",
              "</div>\n",
              "    <div class=\"colab-df-buttons\">\n",
              "\n",
              "  <div class=\"colab-df-container\">\n",
              "    <button class=\"colab-df-convert\" onclick=\"convertToInteractive('df-c6ecf290-572c-4367-8364-76cbe442fae0')\"\n",
              "            title=\"Convert this dataframe to an interactive table.\"\n",
              "            style=\"display:none;\">\n",
              "\n",
              "  <svg xmlns=\"http://www.w3.org/2000/svg\" height=\"24px\" viewBox=\"0 -960 960 960\">\n",
              "    <path d=\"M120-120v-720h720v720H120Zm60-500h600v-160H180v160Zm220 220h160v-160H400v160Zm0 220h160v-160H400v160ZM180-400h160v-160H180v160Zm440 0h160v-160H620v160ZM180-180h160v-160H180v160Zm440 0h160v-160H620v160Z\"/>\n",
              "  </svg>\n",
              "    </button>\n",
              "\n",
              "  <style>\n",
              "    .colab-df-container {\n",
              "      display:flex;\n",
              "      gap: 12px;\n",
              "    }\n",
              "\n",
              "    .colab-df-convert {\n",
              "      background-color: #E8F0FE;\n",
              "      border: none;\n",
              "      border-radius: 50%;\n",
              "      cursor: pointer;\n",
              "      display: none;\n",
              "      fill: #1967D2;\n",
              "      height: 32px;\n",
              "      padding: 0 0 0 0;\n",
              "      width: 32px;\n",
              "    }\n",
              "\n",
              "    .colab-df-convert:hover {\n",
              "      background-color: #E2EBFA;\n",
              "      box-shadow: 0px 1px 2px rgba(60, 64, 67, 0.3), 0px 1px 3px 1px rgba(60, 64, 67, 0.15);\n",
              "      fill: #174EA6;\n",
              "    }\n",
              "\n",
              "    .colab-df-buttons div {\n",
              "      margin-bottom: 4px;\n",
              "    }\n",
              "\n",
              "    [theme=dark] .colab-df-convert {\n",
              "      background-color: #3B4455;\n",
              "      fill: #D2E3FC;\n",
              "    }\n",
              "\n",
              "    [theme=dark] .colab-df-convert:hover {\n",
              "      background-color: #434B5C;\n",
              "      box-shadow: 0px 1px 3px 1px rgba(0, 0, 0, 0.15);\n",
              "      filter: drop-shadow(0px 1px 2px rgba(0, 0, 0, 0.3));\n",
              "      fill: #FFFFFF;\n",
              "    }\n",
              "  </style>\n",
              "\n",
              "    <script>\n",
              "      const buttonEl =\n",
              "        document.querySelector('#df-c6ecf290-572c-4367-8364-76cbe442fae0 button.colab-df-convert');\n",
              "      buttonEl.style.display =\n",
              "        google.colab.kernel.accessAllowed ? 'block' : 'none';\n",
              "\n",
              "      async function convertToInteractive(key) {\n",
              "        const element = document.querySelector('#df-c6ecf290-572c-4367-8364-76cbe442fae0');\n",
              "        const dataTable =\n",
              "          await google.colab.kernel.invokeFunction('convertToInteractive',\n",
              "                                                    [key], {});\n",
              "        if (!dataTable) return;\n",
              "\n",
              "        const docLinkHtml = 'Like what you see? Visit the ' +\n",
              "          '<a target=\"_blank\" href=https://colab.research.google.com/notebooks/data_table.ipynb>data table notebook</a>'\n",
              "          + ' to learn more about interactive tables.';\n",
              "        element.innerHTML = '';\n",
              "        dataTable['output_type'] = 'display_data';\n",
              "        await google.colab.output.renderOutput(dataTable, element);\n",
              "        const docLink = document.createElement('div');\n",
              "        docLink.innerHTML = docLinkHtml;\n",
              "        element.appendChild(docLink);\n",
              "      }\n",
              "    </script>\n",
              "  </div>\n",
              "\n",
              "\n",
              "<div id=\"df-0799f9fb-a0bd-425f-91aa-0c400ee2b795\">\n",
              "  <button class=\"colab-df-quickchart\" onclick=\"quickchart('df-0799f9fb-a0bd-425f-91aa-0c400ee2b795')\"\n",
              "            title=\"Suggest charts\"\n",
              "            style=\"display:none;\">\n",
              "\n",
              "<svg xmlns=\"http://www.w3.org/2000/svg\" height=\"24px\"viewBox=\"0 0 24 24\"\n",
              "     width=\"24px\">\n",
              "    <g>\n",
              "        <path d=\"M19 3H5c-1.1 0-2 .9-2 2v14c0 1.1.9 2 2 2h14c1.1 0 2-.9 2-2V5c0-1.1-.9-2-2-2zM9 17H7v-7h2v7zm4 0h-2V7h2v10zm4 0h-2v-4h2v4z\"/>\n",
              "    </g>\n",
              "</svg>\n",
              "  </button>\n",
              "\n",
              "<style>\n",
              "  .colab-df-quickchart {\n",
              "      --bg-color: #E8F0FE;\n",
              "      --fill-color: #1967D2;\n",
              "      --hover-bg-color: #E2EBFA;\n",
              "      --hover-fill-color: #174EA6;\n",
              "      --disabled-fill-color: #AAA;\n",
              "      --disabled-bg-color: #DDD;\n",
              "  }\n",
              "\n",
              "  [theme=dark] .colab-df-quickchart {\n",
              "      --bg-color: #3B4455;\n",
              "      --fill-color: #D2E3FC;\n",
              "      --hover-bg-color: #434B5C;\n",
              "      --hover-fill-color: #FFFFFF;\n",
              "      --disabled-bg-color: #3B4455;\n",
              "      --disabled-fill-color: #666;\n",
              "  }\n",
              "\n",
              "  .colab-df-quickchart {\n",
              "    background-color: var(--bg-color);\n",
              "    border: none;\n",
              "    border-radius: 50%;\n",
              "    cursor: pointer;\n",
              "    display: none;\n",
              "    fill: var(--fill-color);\n",
              "    height: 32px;\n",
              "    padding: 0;\n",
              "    width: 32px;\n",
              "  }\n",
              "\n",
              "  .colab-df-quickchart:hover {\n",
              "    background-color: var(--hover-bg-color);\n",
              "    box-shadow: 0 1px 2px rgba(60, 64, 67, 0.3), 0 1px 3px 1px rgba(60, 64, 67, 0.15);\n",
              "    fill: var(--button-hover-fill-color);\n",
              "  }\n",
              "\n",
              "  .colab-df-quickchart-complete:disabled,\n",
              "  .colab-df-quickchart-complete:disabled:hover {\n",
              "    background-color: var(--disabled-bg-color);\n",
              "    fill: var(--disabled-fill-color);\n",
              "    box-shadow: none;\n",
              "  }\n",
              "\n",
              "  .colab-df-spinner {\n",
              "    border: 2px solid var(--fill-color);\n",
              "    border-color: transparent;\n",
              "    border-bottom-color: var(--fill-color);\n",
              "    animation:\n",
              "      spin 1s steps(1) infinite;\n",
              "  }\n",
              "\n",
              "  @keyframes spin {\n",
              "    0% {\n",
              "      border-color: transparent;\n",
              "      border-bottom-color: var(--fill-color);\n",
              "      border-left-color: var(--fill-color);\n",
              "    }\n",
              "    20% {\n",
              "      border-color: transparent;\n",
              "      border-left-color: var(--fill-color);\n",
              "      border-top-color: var(--fill-color);\n",
              "    }\n",
              "    30% {\n",
              "      border-color: transparent;\n",
              "      border-left-color: var(--fill-color);\n",
              "      border-top-color: var(--fill-color);\n",
              "      border-right-color: var(--fill-color);\n",
              "    }\n",
              "    40% {\n",
              "      border-color: transparent;\n",
              "      border-right-color: var(--fill-color);\n",
              "      border-top-color: var(--fill-color);\n",
              "    }\n",
              "    60% {\n",
              "      border-color: transparent;\n",
              "      border-right-color: var(--fill-color);\n",
              "    }\n",
              "    80% {\n",
              "      border-color: transparent;\n",
              "      border-right-color: var(--fill-color);\n",
              "      border-bottom-color: var(--fill-color);\n",
              "    }\n",
              "    90% {\n",
              "      border-color: transparent;\n",
              "      border-bottom-color: var(--fill-color);\n",
              "    }\n",
              "  }\n",
              "</style>\n",
              "\n",
              "  <script>\n",
              "    async function quickchart(key) {\n",
              "      const quickchartButtonEl =\n",
              "        document.querySelector('#' + key + ' button');\n",
              "      quickchartButtonEl.disabled = true;  // To prevent multiple clicks.\n",
              "      quickchartButtonEl.classList.add('colab-df-spinner');\n",
              "      try {\n",
              "        const charts = await google.colab.kernel.invokeFunction(\n",
              "            'suggestCharts', [key], {});\n",
              "      } catch (error) {\n",
              "        console.error('Error during call to suggestCharts:', error);\n",
              "      }\n",
              "      quickchartButtonEl.classList.remove('colab-df-spinner');\n",
              "      quickchartButtonEl.classList.add('colab-df-quickchart-complete');\n",
              "    }\n",
              "    (() => {\n",
              "      let quickchartButtonEl =\n",
              "        document.querySelector('#df-0799f9fb-a0bd-425f-91aa-0c400ee2b795 button');\n",
              "      quickchartButtonEl.style.display =\n",
              "        google.colab.kernel.accessAllowed ? 'block' : 'none';\n",
              "    })();\n",
              "  </script>\n",
              "</div>\n",
              "\n",
              "    </div>\n",
              "  </div>\n"
            ]
          },
          "metadata": {},
          "execution_count": 6
        }
      ]
    },
    {
      "cell_type": "code",
      "source": [
        "print(\"Shape of the dataset (Rows, Columns) = \",end='')\n",
        "df.shape"
      ],
      "metadata": {
        "id": "4keyyOlSAjxX",
        "colab": {
          "base_uri": "https://localhost:8080/"
        },
        "outputId": "148d3bd3-f524-4553-e778-6d04e8c23fb2"
      },
      "execution_count": 7,
      "outputs": [
        {
          "output_type": "stream",
          "name": "stdout",
          "text": [
            "Shape of the dataset (Rows, Columns) = "
          ]
        },
        {
          "output_type": "execute_result",
          "data": {
            "text/plain": [
              "(50000, 2)"
            ]
          },
          "metadata": {},
          "execution_count": 7
        }
      ]
    },
    {
      "cell_type": "code",
      "source": [
        "df.columns"
      ],
      "metadata": {
        "id": "RzdLnEw3B7Vp",
        "colab": {
          "base_uri": "https://localhost:8080/"
        },
        "outputId": "0cf5f6f6-85d4-4f6c-8913-41ac3b7acd8d"
      },
      "execution_count": 8,
      "outputs": [
        {
          "output_type": "execute_result",
          "data": {
            "text/plain": [
              "Index(['sentence', 'label'], dtype='object')"
            ]
          },
          "metadata": {},
          "execution_count": 8
        }
      ]
    },
    {
      "cell_type": "code",
      "source": [
        "df.isnull().sum()"
      ],
      "metadata": {
        "id": "WDcJhnihB7fq",
        "colab": {
          "base_uri": "https://localhost:8080/"
        },
        "outputId": "efe17788-3a5d-4bf2-b6eb-9601257f95cc"
      },
      "execution_count": 9,
      "outputs": [
        {
          "output_type": "execute_result",
          "data": {
            "text/plain": [
              "sentence    0\n",
              "label       0\n",
              "dtype: int64"
            ]
          },
          "metadata": {},
          "execution_count": 9
        }
      ]
    },
    {
      "cell_type": "code",
      "source": [
        "plt.pie(df['label'].value_counts(), labels=df['label'].unique(), autopct='%1.1f%%')\n",
        "plt.show()\n"
      ],
      "metadata": {
        "id": "0K3rNAWmB7ix",
        "colab": {
          "base_uri": "https://localhost:8080/",
          "height": 406
        },
        "outputId": "73b4d31e-b41c-414b-9f3a-f7c63c6d0d1b"
      },
      "execution_count": 10,
      "outputs": [
        {
          "output_type": "display_data",
          "data": {
            "text/plain": [
              "<Figure size 640x480 with 1 Axes>"
            ],
            "image/png": "[encoded data removed]"
          },
          "metadata": {}
        }
      ]
    },
    {
      "cell_type": "markdown",
      "source": [
        "#LABEL ENCODING"
      ],
      "metadata": {
        "id": "nNvlYJevwc8f"
      }
    },
    {
      "cell_type": "code",
      "source": [
        "from sklearn.preprocessing import LabelEncoder\n",
        "\n",
        "le = LabelEncoder()\n",
        "\n",
        "column_name = 'label'\n",
        "df[column_name] = le.fit_transform(df[column_name])\n",
        "print('Feature name :', column_name, \"\\n\", \\\n",
        "      dict(zip(le.classes_, le.transform(le.classes_))), '\\n')\n"
      ],
      "metadata": {
        "colab": {
          "base_uri": "https://localhost:8080/"
        },
        "id": "XkGdy0uluNJj",
        "outputId": "0ca12de5-70fd-479f-846a-e5614f4263e7"
      },
      "execution_count": 11,
      "outputs": [
        {
          "output_type": "stream",
          "name": "stdout",
          "text": [
            "Feature name : label \n",
            " {'negative': 0, 'positive': 1} \n",
            "\n"
          ]
        }
      ]
    },
    {
      "cell_type": "markdown",
      "source": [
        "#SPLIT DATASET"
      ],
      "metadata": {
        "id": "TRwAIIfowhSy"
      }
    },
    {
      "cell_type": "code",
      "source": [
        "from sklearn.model_selection import train_test_split\n",
        "sentences = df['sentence'].values\n",
        "y = df['label'].values\n",
        "\n",
        "sentences_train, sentences_test, y_train, y_test = train_test_split(sentences, y, test_size=0.20, random_state=1000)"
      ],
      "metadata": {
        "id": "zLN92KLlB7lb"
      },
      "execution_count": 12,
      "outputs": []
    },
    {
      "cell_type": "code",
      "source": [
        "sentences_train.shape, sentences_test.shape"
      ],
      "metadata": {
        "id": "KUPnY1EtB7pj",
        "colab": {
          "base_uri": "https://localhost:8080/"
        },
        "outputId": "6cb998c2-19e8-4a00-cca5-dc67e0aa14cc"
      },
      "execution_count": 13,
      "outputs": [
        {
          "output_type": "execute_result",
          "data": {
            "text/plain": [
              "((40000,), (10000,))"
            ]
          },
          "metadata": {},
          "execution_count": 13
        }
      ]
    },
    {
      "cell_type": "markdown",
      "source": [
        "#TOKENIZATION"
      ],
      "metadata": {
        "id": "jsTWFzLZDfa1"
      }
    },
    {
      "cell_type": "code",
      "source": [
        "from keras.preprocessing.text import Tokenizer\n",
        "\n",
        "tokenizer = Tokenizer()\n",
        "tokenizer.fit_on_texts(sentences_train)\n",
        "\n",
        "X_train = tokenizer.texts_to_sequences(sentences_train)\n",
        "X_test = tokenizer.texts_to_sequences(sentences_test)\n",
        "\n",
        "vocab_size = len(tokenizer.word_index)+1\n",
        "print(sentences_train[2])\n",
        "print(X_train[2])\n",
        "print(vocab_size)"
      ],
      "metadata": {
        "id": "oFSsQzyEB7si",
        "colab": {
          "base_uri": "https://localhost:8080/"
        },
        "outputId": "b95969a3-593f-4e19-cf88-54655b1b6909"
      },
      "execution_count": 14,
      "outputs": [
        {
          "output_type": "stream",
          "name": "stdout",
          "text": [
            "To make a film straddling the prequels and the \"real\" Star Wars trilogy would tax even a great film-maker....Mr Lucas is not that film-maker.<br /><br />To portray the fall of a good man into darkness needs a good actor...Mr Christensen is not that actor.<br /><br />The first 60-80 minutes are overwhelmingly boring with only a few pockets of yet more light sabre fights but there is a lack of edge because you already know which main characters survive to the original Star Wars.<br /><br />Count Dooku (Christopher Lee) has a very fleeting role here and about the best idea is to have Jar Jar Binks silent! <br /><br />No the film only picks up with the Chancellor turning on the Jedi and has one great (overlong) sequence at the lava falls\n",
            "[5, 94, 3, 19, 34839, 1, 18771, 2, 1, 144, 326, 1671, 2515, 59, 6982, 57, 3, 79, 19, 2745, 441, 5033, 6, 21, 12, 19, 2745, 7, 7, 5, 2069, 1, 785, 4, 3, 49, 128, 82, 2385, 754, 3, 49, 292, 441, 13351, 6, 21, 12, 292, 7, 7, 1, 86, 3732, 2993, 226, 23, 12859, 347, 16, 61, 3, 169, 14636, 4, 244, 51, 652, 24879, 1866, 18, 46, 6, 3, 573, 4, 1260, 85, 22, 462, 119, 60, 283, 102, 1885, 5, 1, 211, 326, 1671, 7, 7, 1621, 51056, 1511, 964, 45, 3, 52, 9140, 210, 133, 2, 42, 1, 116, 319, 6, 5, 25, 8069, 8069, 22711, 1241, 7, 7, 54, 1, 19, 61, 3030, 53, 16, 1, 22712, 1597, 20, 1, 10061, 2, 45, 27, 79, 5778, 704, 30, 1, 8810, 756]\n",
            "112386\n"
          ]
        }
      ]
    },
    {
      "cell_type": "markdown",
      "source": [
        "#PADDING"
      ],
      "metadata": {
        "id": "iekAGUBBLyLL"
      }
    },
    {
      "cell_type": "code",
      "source": [
        "from tensorflow.keras.preprocessing.sequence import pad_sequences\n",
        "\n",
        "maxlen = 256\n",
        "\n",
        "X_train = pad_sequences(X_train, padding='post', maxlen=maxlen)\n",
        "X_test = pad_sequences(X_test, padding='post', maxlen=maxlen)\n",
        "\n",
        "print(X_train[0, :])\n",
        "print(X_train.shape)"
      ],
      "metadata": {
        "id": "Fn5gIxLDLya-",
        "colab": {
          "base_uri": "https://localhost:8080/"
        },
        "outputId": "75a7b88f-e021-498e-810e-14e723a7a855"
      },
      "execution_count": 15,
      "outputs": [
        {
          "output_type": "stream",
          "name": "stdout",
          "text": [
            "[   22    97    62     1   467  3537    36     3  3919   242    29     1\n",
            "  3955    70    46     1  5398     1 11183     1   716  1300     1  6699\n",
            "     4     1  5129     3    49  2174    15 65374  8599     2   306  2231\n",
            "  6163    12   857     1  5099  1068   141    36     1 16610    81     1\n",
            "   274     6   249  1114  7817    14     1  1973 65375  1064  1179  2508\n",
            "     3 65376   624    93  3024    99  3290     3  3025 65377    30   299\n",
            "  2210   535  2455    51  4027     5     1  1064    59    25    90     9\n",
            "     3   120    51   832     2   134    78   131   103   214   186   272\n",
            "   303    99     3  5398     6     9     3   418     4   280    22  1885\n",
            "     1  5398    22    80    26    49    15   113    51    71   234   329\n",
            "     9   277     1   573     4 26261     1  5398    15 11183     2    21\n",
            "  1907 27847    20     1 20129    35    23  1189     1   845    15     3\n",
            " 26262     0     0     0     0     0     0     0     0     0     0     0\n",
            "     0     0     0     0     0     0     0     0     0     0     0     0\n",
            "     0     0     0     0     0     0     0     0     0     0     0     0\n",
            "     0     0     0     0     0     0     0     0     0     0     0     0\n",
            "     0     0     0     0     0     0     0     0     0     0     0     0\n",
            "     0     0     0     0     0     0     0     0     0     0     0     0\n",
            "     0     0     0     0     0     0     0     0     0     0     0     0\n",
            "     0     0     0     0     0     0     0     0     0     0     0     0\n",
            "     0     0     0     0     0     0     0     0     0     0     0     0\n",
            "     0     0     0     0]\n",
            "(40000, 256)\n"
          ]
        }
      ]
    },
    {
      "cell_type": "code",
      "source": [
        "print(y_train)\n",
        "print(y_test)"
      ],
      "metadata": {
        "colab": {
          "base_uri": "https://localhost:8080/"
        },
        "id": "euhASyuFu5Ho",
        "outputId": "0f385000-4afc-423c-c335-489d17fea823"
      },
      "execution_count": 16,
      "outputs": [
        {
          "output_type": "stream",
          "name": "stdout",
          "text": [
            "[0 1 0 ... 1 1 0]\n",
            "[0 1 0 ... 1 0 0]\n"
          ]
        }
      ]
    },
    {
      "cell_type": "code",
      "source": [
        "df.head()"
      ],
      "metadata": {
        "id": "8AQ3kByADyo_",
        "colab": {
          "base_uri": "https://localhost:8080/",
          "height": 206
        },
        "outputId": "f0f0b295-6df1-4e92-bd93-0a866413aef0"
      },
      "execution_count": 17,
      "outputs": [
        {
          "output_type": "execute_result",
          "data": {
            "text/plain": [
              "                                            sentence  label\n",
              "1  One of the other reviewers has mentioned that ...      1\n",
              "2  A wonderful little production. <br /><br />The...      1\n",
              "3  I thought this was a wonderful way to spend ti...      1\n",
              "4  Basically there's a family where a little boy ...      0\n",
              "5  Petter Mattei's \"Love in the Time of Money\" is...      1"
            ],
            "text/html": [
              "\n",
              "  <div id=\"df-9008598a-4331-4872-bf3e-6dc236b9f073\" class=\"colab-df-container\">\n",
              "    <div>\n",
              "<style scoped>\n",
              "    .dataframe tbody tr th:only-of-type {\n",
              "        vertical-align: middle;\n",
              "    }\n",
              "\n",
              "    .dataframe tbody tr th {\n",
              "        vertical-align: top;\n",
              "    }\n",
              "\n",
              "    .dataframe thead th {\n",
              "        text-align: right;\n",
              "    }\n",
              "</style>\n",
              "<table border=\"1\" class=\"dataframe\">\n",
              "  <thead>\n",
              "    <tr style=\"text-align: right;\">\n",
              "      <th></th>\n",
              "      <th>sentence</th>\n",
              "      <th>label</th>\n",
              "    </tr>\n",
              "  </thead>\n",
              "  <tbody>\n",
              "    <tr>\n",
              "      <th>1</th>\n",
              "      <td>One of the other reviewers has mentioned that ...</td>\n",
              "      <td>1</td>\n",
              "    </tr>\n",
              "    <tr>\n",
              "      <th>2</th>\n",
              "      <td>A wonderful little production. &lt;br /&gt;&lt;br /&gt;The...</td>\n",
              "      <td>1</td>\n",
              "    </tr>\n",
              "    <tr>\n",
              "      <th>3</th>\n",
              "      <td>I thought this was a wonderful way to spend ti...</td>\n",
              "      <td>1</td>\n",
              "    </tr>\n",
              "    <tr>\n",
              "      <th>4</th>\n",
              "      <td>Basically there's a family where a little boy ...</td>\n",
              "      <td>0</td>\n",
              "    </tr>\n",
              "    <tr>\n",
              "      <th>5</th>\n",
              "      <td>Petter Mattei's \"Love in the Time of Money\" is...</td>\n",
              "      <td>1</td>\n",
              "    </tr>\n",
              "  </tbody>\n",
              "</table>\n",
              "</div>\n",
              "    <div class=\"colab-df-buttons\">\n",
              "\n",
              "  <div class=\"colab-df-container\">\n",
              "    <button class=\"colab-df-convert\" onclick=\"convertToInteractive('df-9008598a-4331-4872-bf3e-6dc236b9f073')\"\n",
              "            title=\"Convert this dataframe to an interactive table.\"\n",
              "            style=\"display:none;\">\n",
              "\n",
              "  <svg xmlns=\"http://www.w3.org/2000/svg\" height=\"24px\" viewBox=\"0 -960 960 960\">\n",
              "    <path d=\"M120-120v-720h720v720H120Zm60-500h600v-160H180v160Zm220 220h160v-160H400v160Zm0 220h160v-160H400v160ZM180-400h160v-160H180v160Zm440 0h160v-160H620v160ZM180-180h160v-160H180v160Zm440 0h160v-160H620v160Z\"/>\n",
              "  </svg>\n",
              "    </button>\n",
              "\n",
              "  <style>\n",
              "    .colab-df-container {\n",
              "      display:flex;\n",
              "      gap: 12px;\n",
              "    }\n",
              "\n",
              "    .colab-df-convert {\n",
              "      background-color: #E8F0FE;\n",
              "      border: none;\n",
              "      border-radius: 50%;\n",
              "      cursor: pointer;\n",
              "      display: none;\n",
              "      fill: #1967D2;\n",
              "      height: 32px;\n",
              "      padding: 0 0 0 0;\n",
              "      width: 32px;\n",
              "    }\n",
              "\n",
              "    .colab-df-convert:hover {\n",
              "      background-color: #E2EBFA;\n",
              "      box-shadow: 0px 1px 2px rgba(60, 64, 67, 0.3), 0px 1px 3px 1px rgba(60, 64, 67, 0.15);\n",
              "      fill: #174EA6;\n",
              "    }\n",
              "\n",
              "    .colab-df-buttons div {\n",
              "      margin-bottom: 4px;\n",
              "    }\n",
              "\n",
              "    [theme=dark] .colab-df-convert {\n",
              "      background-color: #3B4455;\n",
              "      fill: #D2E3FC;\n",
              "    }\n",
              "\n",
              "    [theme=dark] .colab-df-convert:hover {\n",
              "      background-color: #434B5C;\n",
              "      box-shadow: 0px 1px 3px 1px rgba(0, 0, 0, 0.15);\n",
              "      filter: drop-shadow(0px 1px 2px rgba(0, 0, 0, 0.3));\n",
              "      fill: #FFFFFF;\n",
              "    }\n",
              "  </style>\n",
              "\n",
              "    <script>\n",
              "      const buttonEl =\n",
              "        document.querySelector('#df-9008598a-4331-4872-bf3e-6dc236b9f073 button.colab-df-convert');\n",
              "      buttonEl.style.display =\n",
              "        google.colab.kernel.accessAllowed ? 'block' : 'none';\n",
              "\n",
              "      async function convertToInteractive(key) {\n",
              "        const element = document.querySelector('#df-9008598a-4331-4872-bf3e-6dc236b9f073');\n",
              "        const dataTable =\n",
              "          await google.colab.kernel.invokeFunction('convertToInteractive',\n",
              "                                                    [key], {});\n",
              "        if (!dataTable) return;\n",
              "\n",
              "        const docLinkHtml = 'Like what you see? Visit the ' +\n",
              "          '<a target=\"_blank\" href=https://colab.research.google.com/notebooks/data_table.ipynb>data table notebook</a>'\n",
              "          + ' to learn more about interactive tables.';\n",
              "        element.innerHTML = '';\n",
              "        dataTable['output_type'] = 'display_data';\n",
              "        await google.colab.output.renderOutput(dataTable, element);\n",
              "        const docLink = document.createElement('div');\n",
              "        docLink.innerHTML = docLinkHtml;\n",
              "        element.appendChild(docLink);\n",
              "      }\n",
              "    </script>\n",
              "  </div>\n",
              "\n",
              "\n",
              "<div id=\"df-c42aa7da-3a7c-4abe-b610-79e62b4b08f7\">\n",
              "  <button class=\"colab-df-quickchart\" onclick=\"quickchart('df-c42aa7da-3a7c-4abe-b610-79e62b4b08f7')\"\n",
              "            title=\"Suggest charts\"\n",
              "            style=\"display:none;\">\n",
              "\n",
              "<svg xmlns=\"http://www.w3.org/2000/svg\" height=\"24px\"viewBox=\"0 0 24 24\"\n",
              "     width=\"24px\">\n",
              "    <g>\n",
              "        <path d=\"M19 3H5c-1.1 0-2 .9-2 2v14c0 1.1.9 2 2 2h14c1.1 0 2-.9 2-2V5c0-1.1-.9-2-2-2zM9 17H7v-7h2v7zm4 0h-2V7h2v10zm4 0h-2v-4h2v4z\"/>\n",
              "    </g>\n",
              "</svg>\n",
              "  </button>\n",
              "\n",
              "<style>\n",
              "  .colab-df-quickchart {\n",
              "      --bg-color: #E8F0FE;\n",
              "      --fill-color: #1967D2;\n",
              "      --hover-bg-color: #E2EBFA;\n",
              "      --hover-fill-color: #174EA6;\n",
              "      --disabled-fill-color: #AAA;\n",
              "      --disabled-bg-color: #DDD;\n",
              "  }\n",
              "\n",
              "  [theme=dark] .colab-df-quickchart {\n",
              "      --bg-color: #3B4455;\n",
              "      --fill-color: #D2E3FC;\n",
              "      --hover-bg-color: #434B5C;\n",
              "      --hover-fill-color: #FFFFFF;\n",
              "      --disabled-bg-color: #3B4455;\n",
              "      --disabled-fill-color: #666;\n",
              "  }\n",
              "\n",
              "  .colab-df-quickchart {\n",
              "    background-color: var(--bg-color);\n",
              "    border: none;\n",
              "    border-radius: 50%;\n",
              "    cursor: pointer;\n",
              "    display: none;\n",
              "    fill: var(--fill-color);\n",
              "    height: 32px;\n",
              "    padding: 0;\n",
              "    width: 32px;\n",
              "  }\n",
              "\n",
              "  .colab-df-quickchart:hover {\n",
              "    background-color: var(--hover-bg-color);\n",
              "    box-shadow: 0 1px 2px rgba(60, 64, 67, 0.3), 0 1px 3px 1px rgba(60, 64, 67, 0.15);\n",
              "    fill: var(--button-hover-fill-color);\n",
              "  }\n",
              "\n",
              "  .colab-df-quickchart-complete:disabled,\n",
              "  .colab-df-quickchart-complete:disabled:hover {\n",
              "    background-color: var(--disabled-bg-color);\n",
              "    fill: var(--disabled-fill-color);\n",
              "    box-shadow: none;\n",
              "  }\n",
              "\n",
              "  .colab-df-spinner {\n",
              "    border: 2px solid var(--fill-color);\n",
              "    border-color: transparent;\n",
              "    border-bottom-color: var(--fill-color);\n",
              "    animation:\n",
              "      spin 1s steps(1) infinite;\n",
              "  }\n",
              "\n",
              "  @keyframes spin {\n",
              "    0% {\n",
              "      border-color: transparent;\n",
              "      border-bottom-color: var(--fill-color);\n",
              "      border-left-color: var(--fill-color);\n",
              "    }\n",
              "    20% {\n",
              "      border-color: transparent;\n",
              "      border-left-color: var(--fill-color);\n",
              "      border-top-color: var(--fill-color);\n",
              "    }\n",
              "    30% {\n",
              "      border-color: transparent;\n",
              "      border-left-color: var(--fill-color);\n",
              "      border-top-color: var(--fill-color);\n",
              "      border-right-color: var(--fill-color);\n",
              "    }\n",
              "    40% {\n",
              "      border-color: transparent;\n",
              "      border-right-color: var(--fill-color);\n",
              "      border-top-color: var(--fill-color);\n",
              "    }\n",
              "    60% {\n",
              "      border-color: transparent;\n",
              "      border-right-color: var(--fill-color);\n",
              "    }\n",
              "    80% {\n",
              "      border-color: transparent;\n",
              "      border-right-color: var(--fill-color);\n",
              "      border-bottom-color: var(--fill-color);\n",
              "    }\n",
              "    90% {\n",
              "      border-color: transparent;\n",
              "      border-bottom-color: var(--fill-color);\n",
              "    }\n",
              "  }\n",
              "</style>\n",
              "\n",
              "  <script>\n",
              "    async function quickchart(key) {\n",
              "      const quickchartButtonEl =\n",
              "        document.querySelector('#' + key + ' button');\n",
              "      quickchartButtonEl.disabled = true;  // To prevent multiple clicks.\n",
              "      quickchartButtonEl.classList.add('colab-df-spinner');\n",
              "      try {\n",
              "        const charts = await google.colab.kernel.invokeFunction(\n",
              "            'suggestCharts', [key], {});\n",
              "      } catch (error) {\n",
              "        console.error('Error during call to suggestCharts:', error);\n",
              "      }\n",
              "      quickchartButtonEl.classList.remove('colab-df-spinner');\n",
              "      quickchartButtonEl.classList.add('colab-df-quickchart-complete');\n",
              "    }\n",
              "    (() => {\n",
              "      let quickchartButtonEl =\n",
              "        document.querySelector('#df-c42aa7da-3a7c-4abe-b610-79e62b4b08f7 button');\n",
              "      quickchartButtonEl.style.display =\n",
              "        google.colab.kernel.accessAllowed ? 'block' : 'none';\n",
              "    })();\n",
              "  </script>\n",
              "</div>\n",
              "\n",
              "    </div>\n",
              "  </div>\n"
            ]
          },
          "metadata": {},
          "execution_count": 17
        }
      ]
    },
    {
      "cell_type": "code",
      "source": [
        "unique_values_label = df['label'].unique()\n",
        "print(\"Unique values in y:\", unique_values_label)\n"
      ],
      "metadata": {
        "id": "5OTtAiieEIF3",
        "colab": {
          "base_uri": "https://localhost:8080/"
        },
        "outputId": "86afd2c6-42e8-4dbf-e2a0-f10977526728"
      },
      "execution_count": 18,
      "outputs": [
        {
          "output_type": "stream",
          "name": "stdout",
          "text": [
            "Unique values in y: [1 0]\n"
          ]
        }
      ]
    },
    {
      "cell_type": "markdown",
      "source": [
        "#GLOVE"
      ],
      "metadata": {
        "id": "THq1dgXeEjnE"
      }
    },
    {
      "cell_type": "code",
      "source": [
        "import numpy as np\n",
        "\n",
        "def create_embedding_matrix(file_path, word_index, embedding_dim):\n",
        "    vocab_size = len(word_index) + 1\n",
        "    embedding_matrix = np.zeros((vocab_size, embedding_dim))\n",
        "\n",
        "    with open(file_path) as f:\n",
        "        for line in f:\n",
        "            word, *vector = line.split()\n",
        "            if word in word_index:\n",
        "                idx = word_index[word]\n",
        "                embedding_matrix[idx] = np.array(\n",
        "                    vector, dtype=np.float32)[:embedding_dim]\n",
        "    return embedding_matrix\n"
      ],
      "metadata": {
        "id": "jf1rluHeEmMK"
      },
      "execution_count": 19,
      "outputs": []
    },
    {
      "cell_type": "code",
      "source": [
        "embedding_dim = 100\n",
        "embedding_matrix = create_embedding_matrix('/content/drive/MyDrive/440/glove.6B.100d.txt',tokenizer.word_index, embedding_dim)"
      ],
      "metadata": {
        "id": "4tkAnkchEr4c"
      },
      "execution_count": 20,
      "outputs": []
    },
    {
      "cell_type": "code",
      "source": [
        "print(embedding_matrix)"
      ],
      "metadata": {
        "id": "gQnMsjDwE4QN",
        "colab": {
          "base_uri": "https://localhost:8080/"
        },
        "outputId": "88db2194-eb66-4bc0-d107-c8d1feb85bc8"
      },
      "execution_count": 21,
      "outputs": [
        {
          "output_type": "stream",
          "name": "stdout",
          "text": [
            "[[ 0.          0.          0.         ...  0.          0.\n",
            "   0.        ]\n",
            " [-0.038194   -0.24487001  0.72812003 ... -0.1459      0.82779998\n",
            "   0.27061999]\n",
            " [-0.071953    0.23127     0.023731   ... -0.71894997  0.86894\n",
            "   0.19539   ]\n",
            " ...\n",
            " [ 0.          0.          0.         ...  0.          0.\n",
            "   0.        ]\n",
            " [ 0.          0.          0.         ...  0.          0.\n",
            "   0.        ]\n",
            " [ 0.10826    -0.2432      0.40264001 ... -0.0074516  -0.14802\n",
            "  -0.15246999]]\n"
          ]
        }
      ]
    },
    {
      "cell_type": "code",
      "source": [
        "nonzero_elements = np.count_nonzero(np.count_nonzero(embedding_matrix, axis=1))\n",
        "nonzero_elements / vocab_size"
      ],
      "metadata": {
        "id": "IAKld9FpE6nm",
        "colab": {
          "base_uri": "https://localhost:8080/"
        },
        "outputId": "c5ac1fd4-4865-47d7-9437-535831bdfd2d"
      },
      "execution_count": 22,
      "outputs": [
        {
          "output_type": "execute_result",
          "data": {
            "text/plain": [
              "0.6289039560087556"
            ]
          },
          "metadata": {},
          "execution_count": 22
        }
      ]
    },
    {
      "cell_type": "code",
      "source": [
        "\n",
        "y_train_reshaped = np.expand_dims(y_train, axis=-1)\n",
        "y_train_reshaped = tf.convert_to_tensor(y_train_reshaped, dtype=tf.float32)\n",
        "y_test_reshaped = np.expand_dims(y_test, axis=-1)\n",
        "y_test_reshaped = tf.convert_to_tensor(y_test_reshaped, dtype=tf.float32)\n",
        "tf.config.run_functions_eagerly(True)\n",
        "\n",
        "print(\"Reshaped y_test shape:\", y_test_reshaped.shape)\n",
        "print(\"Reshaped y_train shape:\", y_train_reshaped.shape)\n",
        "print(\"X_train shape:\", X_train.shape)\n",
        "print(\"X_test shape:\", X_test.shape)\n",
        "print(\"y_train shape:\", y_train.shape)\n",
        "print(\"y_test shape:\", y_test.shape)"
      ],
      "metadata": {
        "colab": {
          "base_uri": "https://localhost:8080/"
        },
        "id": "BnSBwPdJQbSl",
        "outputId": "f2569bd6-54b7-4025-fc2a-4cf6d3622c40"
      },
      "execution_count": 23,
      "outputs": [
        {
          "output_type": "stream",
          "name": "stdout",
          "text": [
            "Reshaped y_test shape: (10000, 1)\n",
            "Reshaped y_train shape: (40000, 1)\n",
            "X_train shape: (40000, 256)\n",
            "X_test shape: (10000, 256)\n",
            "y_train shape: (40000,)\n",
            "y_test shape: (10000,)\n"
          ]
        }
      ]
    },
    {
      "cell_type": "markdown",
      "source": [
        "#SHALLOW MODEL"
      ],
      "metadata": {
        "id": "T6Z_E-EiE-nT"
      }
    },
    {
      "cell_type": "code",
      "source": [
        "from keras.models import Sequential\n",
        "from keras import layers\n",
        "\n",
        "embedding_dim = 100\n",
        "\n",
        "model = Sequential()\n",
        "model.add(layers.Embedding(input_dim=vocab_size,\n",
        "                           output_dim=embedding_dim,\n",
        "                           input_length=maxlen))\n",
        "model.add(layers.Dense(10, activation='relu'))\n",
        "model.add(layers.Dense(1, activation='sigmoid'))\n",
        "model.compile(optimizer='adam',\n",
        "              loss='binary_crossentropy',\n",
        "              metrics=['accuracy'],\n",
        "              run_eagerly=True)\n",
        "\n",
        "model.summary()"
      ],
      "metadata": {
        "id": "31n7yUnNE78R",
        "colab": {
          "base_uri": "https://localhost:8080/"
        },
        "outputId": "0daae860-0c90-4e78-b281-f38b26a8daf6"
      },
      "execution_count": 24,
      "outputs": [
        {
          "output_type": "stream",
          "name": "stdout",
          "text": [
            "Model: \"sequential\"\n",
            "_________________________________________________________________\n",
            " Layer (type)                Output Shape              Param #   \n",
            "=================================================================\n",
            " embedding (Embedding)       (None, 256, 100)          11238600  \n",
            "                                                                 \n",
            " dense (Dense)               (None, 256, 10)           1010      \n",
            "                                                                 \n",
            " dense_1 (Dense)             (None, 256, 1)            11        \n",
            "                                                                 \n",
            "=================================================================\n",
            "Total params: 11239621 (42.88 MB)\n",
            "Trainable params: 11239621 (42.88 MB)\n",
            "Non-trainable params: 0 (0.00 Byte)\n",
            "_________________________________________________________________\n"
          ]
        }
      ]
    },
    {
      "cell_type": "code",
      "source": [
        "temp = model.fit(X_train, y_train_reshaped,epochs=20,verbose=False,batch_size=15)\n"
      ],
      "metadata": {
        "id": "2jNZ3zcPFXEN",
        "colab": {
          "base_uri": "https://localhost:8080/"
        },
        "outputId": "ee62ef25-06b0-49e8-aec8-10a5fa66f2cf"
      },
      "execution_count": 25,
      "outputs": [
        {
          "output_type": "stream",
          "name": "stderr",
          "text": [
            "/usr/local/lib/python3.10/dist-packages/tensorflow/python/data/ops/structured_function.py:258: UserWarning: Even though the `tf.config.experimental_run_functions_eagerly` option is set, this option does not apply to tf.data functions. To force eager execution of tf.data functions, please use `tf.data.experimental.enable_debug_mode()`.\n",
            "  warnings.warn(\n"
          ]
        }
      ]
    },
    {
      "cell_type": "code",
      "source": [
        "loss, accuracy = model.evaluate(X_train, y_train_reshaped, verbose=False)\n",
        "print(\"Training Accuracy: {:.4f}\".format(accuracy))\n",
        "loss, accuracy = model.evaluate(X_test, y_test_reshaped, verbose=False)\n",
        "print(\"Testing Accuracy: {:.4f}\".format(accuracy))"
      ],
      "metadata": {
        "colab": {
          "base_uri": "https://localhost:8080/"
        },
        "id": "k-pgR4GZMsVL",
        "outputId": "d7600035-793f-49d8-9edf-357d4a659db6"
      },
      "execution_count": 26,
      "outputs": [
        {
          "output_type": "stream",
          "name": "stderr",
          "text": [
            "/usr/local/lib/python3.10/dist-packages/tensorflow/python/data/ops/structured_function.py:258: UserWarning: Even though the `tf.config.experimental_run_functions_eagerly` option is set, this option does not apply to tf.data functions. To force eager execution of tf.data functions, please use `tf.data.experimental.enable_debug_mode()`.\n",
            "  warnings.warn(\n"
          ]
        },
        {
          "output_type": "stream",
          "name": "stdout",
          "text": [
            "Training Accuracy: 0.5508\n",
            "Testing Accuracy: 0.5408\n"
          ]
        }
      ]
    },
    {
      "cell_type": "markdown",
      "source": [
        "#UNIDIRECTIONAL LSTM"
      ],
      "metadata": {
        "id": "2l6-S3FeJV5f"
      }
    },
    {
      "cell_type": "code",
      "source": [
        "from tensorflow.keras.models import Sequential\n",
        "from tensorflow.keras.layers import LSTM, GRU, Dense, Embedding, Dropout, GlobalAveragePooling1D, Flatten, SpatialDropout1D, Bidirectional\n",
        "\n",
        "n_lstm = 128\n",
        "\n",
        "model1 = Sequential()\n",
        "model1.add(Embedding(vocab_size, embedding_dim, input_length=maxlen))\n",
        "model1.add(LSTM(n_lstm,activation='tanh', return_sequences=False))\n",
        "model1.add(Dense(1, activation='sigmoid'))"
      ],
      "metadata": {
        "id": "cXzo3uKuJVSu"
      },
      "execution_count": 30,
      "outputs": []
    },
    {
      "cell_type": "code",
      "source": [
        "model1.summary()"
      ],
      "metadata": {
        "id": "um44ChBvqDbt",
        "colab": {
          "base_uri": "https://localhost:8080/"
        },
        "outputId": "c400d57a-35cc-40fa-c947-07414fba16a7"
      },
      "execution_count": 31,
      "outputs": [
        {
          "output_type": "stream",
          "name": "stdout",
          "text": [
            "Model: \"sequential_1\"\n",
            "_________________________________________________________________\n",
            " Layer (type)                Output Shape              Param #   \n",
            "=================================================================\n",
            " embedding_1 (Embedding)     (None, 256, 100)          11238600  \n",
            "                                                                 \n",
            " lstm (LSTM)                 (None, 128)               117248    \n",
            "                                                                 \n",
            " dense_2 (Dense)             (None, 1)                 129       \n",
            "                                                                 \n",
            "=================================================================\n",
            "Total params: 11355977 (43.32 MB)\n",
            "Trainable params: 11355977 (43.32 MB)\n",
            "Non-trainable params: 0 (0.00 Byte)\n",
            "_________________________________________________________________\n"
          ]
        }
      ]
    },
    {
      "cell_type": "code",
      "source": [
        "model1.compile(optimizer='adam', loss='binary_crossentropy', metrics=['accuracy'])"
      ],
      "metadata": {
        "id": "EWlxxmWUqDen"
      },
      "execution_count": 32,
      "outputs": []
    },
    {
      "cell_type": "code",
      "source": [
        "model1.fit(X_train, y_train, epochs=20, batch_size=15)"
      ],
      "metadata": {
        "id": "ET8kScsKqDh_",
        "colab": {
          "base_uri": "https://localhost:8080/"
        },
        "outputId": "2a3d7e22-0c3e-4185-d2e0-c7cdef3d852d"
      },
      "execution_count": 33,
      "outputs": [
        {
          "output_type": "stream",
          "name": "stdout",
          "text": [
            "Epoch 1/20\n"
          ]
        },
        {
          "output_type": "stream",
          "name": "stderr",
          "text": [
            "/usr/local/lib/python3.10/dist-packages/tensorflow/python/data/ops/structured_function.py:258: UserWarning: Even though the `tf.config.experimental_run_functions_eagerly` option is set, this option does not apply to tf.data functions. To force eager execution of tf.data functions, please use `tf.data.experimental.enable_debug_mode()`.\n",
            "  warnings.warn(\n"
          ]
        },
        {
          "output_type": "stream",
          "name": "stdout",
          "text": [
            "2667/2667 [==============================] - 163s 61ms/step - loss: 0.6609 - accuracy: 0.5744\n",
            "Epoch 2/20\n",
            "2667/2667 [==============================] - 163s 61ms/step - loss: 0.4042 - accuracy: 0.8106\n",
            "Epoch 3/20\n",
            "2667/2667 [==============================] - 162s 61ms/step - loss: 0.1860 - accuracy: 0.9302\n",
            "Epoch 4/20\n",
            "2667/2667 [==============================] - 165s 62ms/step - loss: 0.1010 - accuracy: 0.9671\n",
            "Epoch 5/20\n",
            "2667/2667 [==============================] - 163s 61ms/step - loss: 0.0499 - accuracy: 0.9858\n",
            "Epoch 6/20\n",
            "2667/2667 [==============================] - 164s 61ms/step - loss: 0.0238 - accuracy: 0.9938\n",
            "Epoch 7/20\n",
            "2667/2667 [==============================] - 167s 63ms/step - loss: 0.0138 - accuracy: 0.9966\n",
            "Epoch 8/20\n",
            "2667/2667 [==============================] - 164s 61ms/step - loss: 0.0089 - accuracy: 0.9977\n",
            "Epoch 9/20\n",
            "2667/2667 [==============================] - 179s 67ms/step - loss: 0.0057 - accuracy: 0.9985\n",
            "Epoch 10/20\n",
            "2667/2667 [==============================] - 168s 63ms/step - loss: 0.0067 - accuracy: 0.9980\n",
            "Epoch 11/20\n",
            "2667/2667 [==============================] - 166s 62ms/step - loss: 0.0048 - accuracy: 0.9986\n",
            "Epoch 12/20\n",
            "2667/2667 [==============================] - 164s 61ms/step - loss: 0.0034 - accuracy: 0.9992\n",
            "Epoch 13/20\n",
            "2667/2667 [==============================] - 166s 62ms/step - loss: 0.0019 - accuracy: 0.9995\n",
            "Epoch 14/20\n",
            "2667/2667 [==============================] - 170s 64ms/step - loss: 0.0012 - accuracy: 0.9997\n",
            "Epoch 15/20\n",
            "2667/2667 [==============================] - 165s 62ms/step - loss: 0.0012 - accuracy: 0.9997\n",
            "Epoch 16/20\n",
            "2667/2667 [==============================] - 164s 61ms/step - loss: 5.7187e-04 - accuracy: 0.9999\n",
            "Epoch 17/20\n",
            "2667/2667 [==============================] - 169s 63ms/step - loss: 0.0010 - accuracy: 0.9997\n",
            "Epoch 18/20\n",
            "2667/2667 [==============================] - 163s 61ms/step - loss: 0.0031 - accuracy: 0.9992\n",
            "Epoch 19/20\n",
            "2667/2667 [==============================] - 164s 62ms/step - loss: 0.0014 - accuracy: 0.9998\n",
            "Epoch 20/20\n",
            "2667/2667 [==============================] - 165s 62ms/step - loss: 6.5482e-04 - accuracy: 0.9999\n"
          ]
        },
        {
          "output_type": "execute_result",
          "data": {
            "text/plain": [
              "<keras.src.callbacks.History at 0x7dd2c4566a70>"
            ]
          },
          "metadata": {},
          "execution_count": 33
        }
      ]
    },
    {
      "cell_type": "code",
      "source": [
        "uni_train_loss, uni_train_accuracy = model1.evaluate(X_train, y_train)\n",
        "print(f'Training Loss of Unidirectional LSTM: {uni_train_loss}')\n",
        "print(f'Training Accuracy of Unidirectional LSTM: {uni_train_accuracy}')"
      ],
      "metadata": {
        "id": "mQF6Ac_7Q4eC",
        "colab": {
          "base_uri": "https://localhost:8080/"
        },
        "outputId": "ccb40060-ab00-4307-c565-b31e834c94e1"
      },
      "execution_count": 34,
      "outputs": [
        {
          "output_type": "stream",
          "name": "stdout",
          "text": [
            "1250/1250 [==============================] - 30s 24ms/step - loss: 0.0074 - accuracy: 0.9976\n",
            "Training Loss of Unidirectional LSTM: 0.007432016544044018\n",
            "Training Accuracy of Unidirectional LSTM: 0.9975749850273132\n"
          ]
        }
      ]
    },
    {
      "cell_type": "code",
      "source": [
        "uni_test_loss, uni_test_accuracy = model1.evaluate(X_test, y_test)\n",
        "print(f'Test Loss of Unidirectional LSTM: {uni_test_loss}')\n",
        "print(f'Test Accuracy of Unidirectional LSTM: {uni_test_accuracy}')"
      ],
      "metadata": {
        "id": "cSiywzP2Q7Rz",
        "colab": {
          "base_uri": "https://localhost:8080/"
        },
        "outputId": "ff58a768-e0be-416a-f700-1a6d926955e5"
      },
      "execution_count": 35,
      "outputs": [
        {
          "output_type": "stream",
          "name": "stdout",
          "text": [
            "313/313 [==============================] - 7s 23ms/step - loss: 1.0982 - accuracy: 0.8494\n",
            "Test Loss of Unidirectional LSTM: 1.0982309579849243\n",
            "Test Accuracy of Unidirectional LSTM: 0.849399983882904\n"
          ]
        }
      ]
    },
    {
      "cell_type": "markdown",
      "source": [
        "#BIDIRECTIONAL LSTM"
      ],
      "metadata": {
        "id": "L6yfpzZAJf6S"
      }
    },
    {
      "cell_type": "code",
      "source": [
        "model2 = Sequential()\n",
        "model2.add(Embedding(vocab_size, embedding_dim, input_length=maxlen))\n",
        "model2.add(Bidirectional(LSTM(n_lstm, activation='tanh', return_sequences=False)))\n",
        "model2.add(Dense(1, activation='sigmoid'))"
      ],
      "metadata": {
        "id": "v9QwqB-ZJfEX"
      },
      "execution_count": 36,
      "outputs": []
    },
    {
      "cell_type": "code",
      "source": [
        "model2.compile(optimizer='adam', loss='binary_crossentropy', metrics=['accuracy'])"
      ],
      "metadata": {
        "id": "NNwxZoSEJutN"
      },
      "execution_count": 37,
      "outputs": []
    },
    {
      "cell_type": "code",
      "source": [
        "model2.fit(X_train, y_train, epochs=20, batch_size=15)"
      ],
      "metadata": {
        "id": "fla6xLdFJuwN",
        "colab": {
          "base_uri": "https://localhost:8080/"
        },
        "outputId": "be9c9431-fab9-49f7-b3b6-f9021a6e9c27"
      },
      "execution_count": 38,
      "outputs": [
        {
          "output_type": "stream",
          "name": "stdout",
          "text": [
            "Epoch 1/20\n",
            "2667/2667 [==============================] - 233s 87ms/step - loss: 0.5515 - accuracy: 0.7167\n",
            "Epoch 2/20\n",
            "2667/2667 [==============================] - 231s 87ms/step - loss: 0.2274 - accuracy: 0.9112\n",
            "Epoch 3/20\n",
            "2667/2667 [==============================] - 235s 88ms/step - loss: 0.0975 - accuracy: 0.9681\n",
            "Epoch 4/20\n",
            "2667/2667 [==============================] - 232s 87ms/step - loss: 0.0397 - accuracy: 0.9880\n",
            "Epoch 5/20\n",
            "2667/2667 [==============================] - 235s 88ms/step - loss: 0.0174 - accuracy: 0.9951\n",
            "Epoch 6/20\n",
            "2667/2667 [==============================] - 233s 87ms/step - loss: 0.0083 - accuracy: 0.9979\n",
            "Epoch 7/20\n",
            "2667/2667 [==============================] - 236s 88ms/step - loss: 0.0043 - accuracy: 0.9990\n",
            "Epoch 8/20\n",
            "2667/2667 [==============================] - 236s 88ms/step - loss: 0.0037 - accuracy: 0.9988\n",
            "Epoch 9/20\n",
            "2667/2667 [==============================] - 233s 87ms/step - loss: 0.0016 - accuracy: 0.9995\n",
            "Epoch 10/20\n",
            "2667/2667 [==============================] - 232s 87ms/step - loss: 0.0011 - accuracy: 0.9996\n",
            "Epoch 11/20\n",
            "2667/2667 [==============================] - 230s 86ms/step - loss: 0.0012 - accuracy: 0.9997\n",
            "Epoch 12/20\n",
            "2667/2667 [==============================] - 237s 89ms/step - loss: 5.0493e-04 - accuracy: 0.9999\n",
            "Epoch 13/20\n",
            "2667/2667 [==============================] - 240s 90ms/step - loss: 6.5463e-05 - accuracy: 1.0000\n",
            "Epoch 14/20\n",
            "2667/2667 [==============================] - 242s 91ms/step - loss: 2.0943e-06 - accuracy: 1.0000\n",
            "Epoch 15/20\n",
            "2667/2667 [==============================] - 236s 89ms/step - loss: 4.7348e-07 - accuracy: 1.0000\n",
            "Epoch 16/20\n",
            "2667/2667 [==============================] - 234s 88ms/step - loss: 1.2399e-07 - accuracy: 1.0000\n",
            "Epoch 17/20\n",
            "2667/2667 [==============================] - 247s 93ms/step - loss: 3.0667e-08 - accuracy: 1.0000\n",
            "Epoch 18/20\n",
            "2667/2667 [==============================] - 236s 88ms/step - loss: 1.0263e-08 - accuracy: 1.0000\n",
            "Epoch 19/20\n",
            "2667/2667 [==============================] - 235s 88ms/step - loss: 4.2512e-09 - accuracy: 1.0000\n",
            "Epoch 20/20\n",
            "2667/2667 [==============================] - 241s 90ms/step - loss: 2.0872e-09 - accuracy: 1.0000\n"
          ]
        },
        {
          "output_type": "execute_result",
          "data": {
            "text/plain": [
              "<keras.src.callbacks.History at 0x7dd2c4d6b430>"
            ]
          },
          "metadata": {},
          "execution_count": 38
        }
      ]
    },
    {
      "cell_type": "code",
      "source": [
        "bi_train_loss, bi_train_accuracy = model2.evaluate(X_train, y_train)\n",
        "print(f'Training Loss of Bidirectional LSTM: {bi_train_loss}')\n",
        "print(f'Training Accuracy of Bidirectional LSTM: {bi_train_accuracy}')"
      ],
      "metadata": {
        "id": "kXnbUpAXR1jt",
        "colab": {
          "base_uri": "https://localhost:8080/"
        },
        "outputId": "787e75c1-cfc7-4060-a665-0a9a4de54622"
      },
      "execution_count": 39,
      "outputs": [
        {
          "output_type": "stream",
          "name": "stdout",
          "text": [
            "1250/1250 [==============================] - 42s 34ms/step - loss: 1.4777e-09 - accuracy: 1.0000\n",
            "Training Loss of Bidirectional LSTM: 1.4777163936940951e-09\n",
            "Training Accuracy of Bidirectional LSTM: 1.0\n"
          ]
        }
      ]
    },
    {
      "cell_type": "code",
      "source": [
        "bi_test_loss, bi_test_accuracy = model2.evaluate(X_test, y_test)\n",
        "print(f'Test Loss of Bidirectional LSTM: {bi_test_loss}')\n",
        "print(f'Test Accuracy of Bidirectional LSTM: {bi_test_accuracy}')"
      ],
      "metadata": {
        "id": "Y4LTCU53R4XE",
        "colab": {
          "base_uri": "https://localhost:8080/"
        },
        "outputId": "7142ddf2-8fb9-4d40-b0c8-abe4bfd6376d"
      },
      "execution_count": 40,
      "outputs": [
        {
          "output_type": "stream",
          "name": "stdout",
          "text": [
            "313/313 [==============================] - 12s 37ms/step - loss: 1.8991 - accuracy: 0.8747\n",
            "Test Loss of Bidirectional LSTM: 1.899137258529663\n",
            "Test Accuracy of Bidirectional LSTM: 0.8747000098228455\n"
          ]
        }
      ]
    }
  ]
}